{
 "cells": [
  {
   "cell_type": "code",
   "execution_count": 1,
   "metadata": {},
   "outputs": [],
   "source": [
    "import os\n",
    "from PIL import Image\n",
    "\n",
    "from torchvision import transforms, datasets\n",
    "import torchvision.models as models\n",
    "import torch\n",
    "import torch.nn as nn\n",
    "import torch.optim as optim\n",
    "from torch.utils.data import DataLoader\n",
    "\n",
    "import shutil\n",
    "import random\n",
    "import copy\n",
    "import time\n",
    "import matplotlib.pyplot as plt\n",
    "import numpy as np\n",
    "import seaborn as sns\n",
    "\n",
    "from sklearn.model_selection import train_test_split\n",
    "from sklearn.metrics import classification_report\n",
    "from sklearn.utils.class_weight import compute_class_weight\n",
    "from sklearn.metrics import confusion_matrix\n",
    "from tqdm import tqdm\n",
    "from datetime import datetime"
   ]
  },
  {
   "cell_type": "code",
   "execution_count": 2,
   "metadata": {},
   "outputs": [],
   "source": [
    "path = os.path.join(os.getcwd(), 'CNN_Augmented.v2-alexnet_227x227_612pics_2025-03-15-1-16pm.folder')\n",
    "obj_dt = datasets.ImageFolder(path, transform=transforms.ToTensor())\n",
    "dataloader = DataLoader(obj_dt, batch_size=64, shuffle=False, num_workers=4)"
   ]
  },
  {
   "cell_type": "code",
   "execution_count": 3,
   "metadata": {},
   "outputs": [
    {
     "name": "stdout",
     "output_type": "stream",
     "text": [
      "Mean :  tensor([0.0091, 0.0094, 0.0080])\n",
      "Std :  tensor([0.0046, 0.0046, 0.0054])\n"
     ]
    }
   ],
   "source": [
    "mean = torch.zeros(3)\n",
    "std = torch.zeros(3)\n",
    "\n",
    "for images, _ in dataloader:\n",
    "    for d in range(3):\n",
    "        mean[d] += images[:, d, :, :].mean()\n",
    "        std[d] += images[:, d, :, :].std()\n",
    "    \n",
    "mean.div_(len(obj_dt))\n",
    "std.div_(len(obj_dt))\n",
    "\n",
    "print(f'Mean : ', mean)\n",
    "print(f'Std : ', std)"
   ]
  },
  {
   "cell_type": "code",
   "execution_count": 4,
   "metadata": {},
   "outputs": [],
   "source": [
    "data_transforms = {\n",
    "    'train' : transforms.Compose([\n",
    "        transforms.ToTensor(),\n",
    "        transforms.Normalize(mean, std)\n",
    "    ]),\n",
    "    'test' : transforms.Compose([\n",
    "        transforms.ToTensor(),\n",
    "        transforms.Normalize(mean, std)\n",
    "    ]),\n",
    "    'val' : transforms.Compose([\n",
    "        transforms.ToTensor(),\n",
    "        transforms.Normalize(mean, std)\n",
    "    ])\n",
    "}"
   ]
  },
  {
   "cell_type": "code",
   "execution_count": 5,
   "metadata": {},
   "outputs": [],
   "source": [
    "directory = 'CNN_Augmented.v2-alexnet_227x227_612pics_2025-03-15-1-16pm.folder'\n",
    "\n",
    "img_dt = {\n",
    "    'train' : datasets.ImageFolder(os.path.join(directory, 'train'), data_transforms['train']),\n",
    "    'test' : datasets.ImageFolder(os.path.join(directory, 'test'), data_transforms['test']),\n",
    "    'val' : datasets.ImageFolder(os.path.join(directory, 'val'), data_transforms['val'])\n",
    "}\n",
    "\n",
    "dataloaders = {\n",
    "    'train' : DataLoader(img_dt['train'], batch_size=16, shuffle=True, num_workers=2),\n",
    "    'test' : DataLoader(img_dt['test'], batch_size=16, shuffle=True, num_workers=2),\n",
    "    'val' : DataLoader(img_dt['val'], batch_size=16, shuffle=True, num_workers=2)\n",
    "}\n",
    "\n",
    "dt_sizes = {x: len(img_dt[x]) for x in ['train', 'test', 'val']}\n",
    "class_names = img_dt['train'].classes"
   ]
  },
  {
   "cell_type": "markdown",
   "metadata": {},
   "source": [
    "## Modelling Code"
   ]
  },
  {
   "cell_type": "code",
   "execution_count": 6,
   "metadata": {},
   "outputs": [],
   "source": [
    "device = torch.device('cuda' if torch.cuda.is_available() else 'cpu')"
   ]
  },
  {
   "cell_type": "code",
   "execution_count": 7,
   "metadata": {},
   "outputs": [],
   "source": [
    "class EarlyStopping :\n",
    "    def __init__(self, patience = 7, min_delta = 0):\n",
    "        self.patience = patience\n",
    "        self.min_delta = min_delta\n",
    "        self.counter = 0\n",
    "        self.best_loss = None\n",
    "        self.early_stop = False\n",
    "        self.best_state = None\n",
    "\n",
    "    def __call__ (self, val_loss, model):\n",
    "        if self.best_loss is None :\n",
    "            self.best_loss = val_loss\n",
    "            self.best_state = copy.deepcopy(model.state_dict())\n",
    "        \n",
    "        elif val_loss > self.best_loss - self.min_delta :\n",
    "            self.counter += 1\n",
    "            if self.counter >= self.patience :\n",
    "                self.early_stop = True\n",
    "\n",
    "        else :\n",
    "            self.best_loss = val_loss\n",
    "            self.best_state = copy.deepcopy(model.state_dict())\n",
    "            self.counter = 0\n",
    "            \n",
    "        return False"
   ]
  },
  {
   "cell_type": "code",
   "execution_count": 8,
   "metadata": {},
   "outputs": [],
   "source": [
    "def create_model(num_classes):\n",
    "    model = models.alexnet(pretrained=True)\n",
    "\n",
    "    for param in model.features.parameters():\n",
    "        param.requires_grad = False\n",
    "\n",
    "    model.classifier = nn.Sequential(\n",
    "        nn.Dropout(p=0.6),\n",
    "        nn.Linear(256 * 6 * 6, 2048),\n",
    "        nn.BatchNorm1d(2048),\n",
    "        nn.ReLU(inplace=True),\n",
    "        nn.Dropout(p=0.6),\n",
    "        nn.Linear(2048, 1024),\n",
    "        nn.BatchNorm1d(1024),\n",
    "        nn.ReLU(inplace=True),\n",
    "        nn.Dropout(p=0.6),\n",
    "        nn.Linear(1024, num_classes),\n",
    "    )\n",
    "    return model"
   ]
  },
  {
   "cell_type": "code",
   "execution_count": 9,
   "metadata": {},
   "outputs": [],
   "source": [
    "def get_class_weights(dataset):\n",
    "    labels = []\n",
    "\n",
    "    for _, label in dataset:\n",
    "        labels.append(label)\n",
    "    class_weights = compute_class_weight('balanced', classes=np.unique(labels), y=labels)\n",
    "\n",
    "    return torch.FloatTensor(class_weights)"
   ]
  },
  {
   "cell_type": "markdown",
   "metadata": {},
   "source": [
    "Train func . . ."
   ]
  },
  {
   "cell_type": "code",
   "execution_count": 22,
   "metadata": {},
   "outputs": [],
   "source": [
    "def train_phase(model, dataloader, criterion, optimizer, device):\n",
    "    model.train()\n",
    "    running_loss = 0.0\n",
    "    running_corrects = 0\n",
    "\n",
    "    for inputs, labels in dataloader :\n",
    "        inputs = inputs.to(device)\n",
    "        labels = labels.to(device)\n",
    "\n",
    "        optimizer.zero_grad()\n",
    "        outputs = model(inputs)\n",
    "        _, preds = torch.max(outputs, 1)\n",
    "        loss = criterion(outputs, labels)\n",
    "\n",
    "        loss.backward()\n",
    "        optimizer.step()\n",
    "\n",
    "        running_loss += loss.item() * inputs.size(0)\n",
    "        running_corrects += torch.sum(preds == labels.data)\n",
    "\n",
    "    return running_loss, running_corrects\n",
    "\n"
   ]
  },
  {
   "cell_type": "code",
   "execution_count": 23,
   "metadata": {},
   "outputs": [],
   "source": [
    "def val_phase(model, dataloader, criterion, device) :\n",
    "    model.eval()\n",
    "    running_loss = 0.0\n",
    "    running_corrects = 0\n",
    "\n",
    "    with torch.no_grad():\n",
    "        for inputs, labels in dataloader :\n",
    "            inputs = inputs.to(device)\n",
    "            labels = labels.to(device)\n",
    "\n",
    "            outputs = model(inputs)\n",
    "            _, preds = torch.max(outputs, 1)\n",
    "            loss = criterion(outputs, labels)\n",
    "\n",
    "            running_loss += loss.item() * inputs.size(0)\n",
    "            running_corrects += torch.sum(preds == labels.data)\n",
    "\n",
    "    return running_loss, running_corrects\n",
    "\n",
    "            "
   ]
  },
  {
   "cell_type": "code",
   "execution_count": 24,
   "metadata": {},
   "outputs": [
    {
     "name": "stderr",
     "output_type": "stream",
     "text": [
      "c:\\Users\\MyBook Hype AMD\\AppData\\Local\\Programs\\Python\\Python313\\Lib\\site-packages\\torchvision\\models\\_utils.py:208: UserWarning: The parameter 'pretrained' is deprecated since 0.13 and may be removed in the future, please use 'weights' instead.\n",
      "  warnings.warn(\n",
      "c:\\Users\\MyBook Hype AMD\\AppData\\Local\\Programs\\Python\\Python313\\Lib\\site-packages\\torchvision\\models\\_utils.py:223: UserWarning: Arguments other than a weight enum or `None` for 'weights' are deprecated since 0.13 and may be removed in the future. The current behavior is equivalent to passing `weights=AlexNet_Weights.IMAGENET1K_V1`. You can also use `weights=AlexNet_Weights.DEFAULT` to get the most up-to-date weights.\n",
      "  warnings.warn(msg)\n"
     ]
    }
   ],
   "source": [
    "model = create_model(num_classes=len(class_names))\n",
    "model = model.to(device)\n",
    "\n",
    "num_epochs = 10\n",
    "\n",
    "class_weights = get_class_weights(img_dt['train']).to(device)\n",
    "criterion = nn.CrossEntropyLoss(weight=class_weights)\n",
    "\n",
    "optimizer = optim.Adam(\n",
    "    model.parameters(),\n",
    "    lr=0.001,\n",
    "    # momentum=0.9,\n",
    "    weight_decay=0.001,\n",
    "    # nesterov=True,\n",
    ")\n",
    "torch.nn.utils.clip_grad_norm_(model.parameters(), max_norm=1.0)\n",
    "\n",
    "scheduler = optim.lr_scheduler.OneCycleLR(\n",
    "    optimizer,\n",
    "    max_lr=0.01,\n",
    "    pct_start=0.3,\n",
    "    epochs=20,\n",
    "    steps_per_epoch=len(dataloaders['train'])\n",
    ")"
   ]
  },
  {
   "cell_type": "code",
   "execution_count": 25,
   "metadata": {},
   "outputs": [
    {
     "name": "stdout",
     "output_type": "stream",
     "text": [
      "Epoch 1/10\n",
      "----------\n",
      "Train Loss: 1.5034 Acc: 0.3640\n",
      "Val Loss: 1.0013 Acc: 0.6471\n",
      "Epoch 2/10\n",
      "----------\n",
      "Train Loss: 1.0116 Acc: 0.6103\n",
      "Val Loss: 0.7758 Acc: 0.7059\n",
      "Epoch 3/10\n",
      "----------\n",
      "Train Loss: 0.6967 Acc: 0.7408\n",
      "Val Loss: 0.7420 Acc: 0.6176\n",
      "Epoch 4/10\n",
      "----------\n",
      "Train Loss: 0.6133 Acc: 0.7739\n",
      "Val Loss: 0.5116 Acc: 0.8235\n",
      "Epoch 5/10\n",
      "----------\n",
      "Train Loss: 0.4844 Acc: 0.8272\n",
      "Val Loss: 0.4531 Acc: 0.8235\n",
      "Epoch 6/10\n",
      "----------\n",
      "Train Loss: 0.4076 Acc: 0.8621\n",
      "Val Loss: 0.4310 Acc: 0.8235\n",
      "Epoch 7/10\n",
      "----------\n",
      "Train Loss: 0.3891 Acc: 0.8658\n",
      "Val Loss: 0.3987 Acc: 0.8529\n",
      "Epoch 8/10\n",
      "----------\n",
      "Train Loss: 0.3674 Acc: 0.8640\n",
      "Val Loss: 0.4275 Acc: 0.7941\n",
      "Epoch 9/10\n",
      "----------\n",
      "Train Loss: 0.3028 Acc: 0.8860\n",
      "Val Loss: 0.4231 Acc: 0.7941\n",
      "Epoch 10/10\n",
      "----------\n",
      "Train Loss: 0.3092 Acc: 0.8897\n",
      "Val Loss: 0.4282 Acc: 0.7941\n"
     ]
    }
   ],
   "source": [
    "train_losses = []\n",
    "val_losses = []\n",
    "train_accs = []\n",
    "val_accs = []\n",
    "\n",
    "for epoch in range(num_epochs):\n",
    "    print(f'Epoch {epoch+1}/{num_epochs}')\n",
    "    print('-' * 10)\n",
    "\n",
    "    # TRAINING\n",
    "    train_loss, train_corrects = train_phase(model, dataloaders['train'], criterion, optimizer, device)\n",
    "    train_loss /= dt_sizes['train']\n",
    "    train_acc = train_corrects.double() / dt_sizes['train']\n",
    "    train_losses.append(train_loss)\n",
    "    train_accs.append(train_acc)\n",
    "    print(f'Train Loss: {train_loss:.4f} Acc: {train_acc:.4f}')\n",
    "\n",
    "    # VALIDATION\n",
    "    val_loss, val_corrects = val_phase(model, dataloaders['val'], criterion, device)\n",
    "    val_loss /= dt_sizes['val']\n",
    "    val_acc = val_corrects.double() / dt_sizes['val']\n",
    "    val_losses.append(val_loss)\n",
    "    val_accs.append(val_acc)\n",
    "    print(f'Val Loss: {val_loss:.4f} Acc: {val_acc:.4f}')"
   ]
  },
  {
   "cell_type": "code",
   "execution_count": null,
   "metadata": {},
   "outputs": [],
   "source": [
    "# def train_model(model, criterion, scheduler, optimizer, num_epochs=20):\n",
    "\n",
    "#     train_losses = []\n",
    "#     val_losses = []\n",
    "#     train_accs = []\n",
    "#     val_accs = []\n",
    "\n",
    "#     since = time.time()\n",
    "#     best_model_wts = copy.deepcopy(model.state_dict())\n",
    "#     best_acc = 0.0\n",
    "#     patience = 5\n",
    "#     early_stopping = EarlyStopping(patience=patience, min_delta=0.001)\n",
    "\n",
    "#     for epoch in range(num_epochs):\n",
    "#         print(f'Epoch {epoch+1}/{num_epochs}')\n",
    "#         print('-' * 10)\n",
    "\n",
    "#         for phase in ['train', 'val']:\n",
    "#             if phase == 'train':\n",
    "#                 model.train()\n",
    "#             else:\n",
    "#                 model.eval()\n",
    "\n",
    "#             running_loss = 0.0\n",
    "#             running_corrects = 0\n",
    "\n",
    "#             for inputs, labels in dataloaders[phase]:\n",
    "#                 inputs = inputs.to(device)\n",
    "#                 labels = labels.to(device)\n",
    "\n",
    "#                 optimizer.zero_grad()\n",
    "\n",
    "#                 with torch.set_grad_enabled(phase == 'train'):\n",
    "#                     outputs = model(inputs)\n",
    "#                     _, preds = torch.max(outputs, 1)\n",
    "#                     loss = criterion(outputs, labels)\n",
    "\n",
    "#                     if phase == 'train':\n",
    "#                         loss.backward()\n",
    "#                         optimizer.step()\n",
    "\n",
    "#                 running_loss += loss.item() * inputs.size(0)\n",
    "#                 running_corrects += torch.sum(preds == labels.data)\n",
    "\n",
    "#             epoch_loss = running_loss / dt_sizes[phase]\n",
    "#             epoch_acc = running_corrects.double() / dt_sizes[phase]\n",
    "\n",
    "#             if phase == 'train':\n",
    "#                 train_losses.append(epoch_loss)\n",
    "#                 train_accs.append(epoch_acc)\n",
    "#             else :\n",
    "#                 val_losses.append(epoch_loss)\n",
    "#                 val_accs.append(epoch_acc)\n",
    "\n",
    "#             print(f'{phase} Loss : {epoch_loss:.4f} Acc : {epoch_acc:.4f}')\n",
    "\n",
    "#             if phase == 'val':\n",
    "#                 scheduler.step(epoch_loss)\n",
    "#                 if early_stopping(epoch_loss, model):\n",
    "#                     print('Early stopping')\n",
    "#                     model.load_state_dict(early_stopping.best_state)\n",
    "#                     return model\n",
    "                \n",
    "#                 if epoch_acc > best_acc:\n",
    "#                     best_acc = epoch_acc\n",
    "#                     best_model_wts = copy.deepcopy(model.state_dict())\n",
    "\n",
    "#     print(f'Best val acc: {best_acc:4f}')\n",
    "#     model.load_state_dict(best_model_wts)\n",
    "#     return model, train_losses, val_losses, train_accs, val_accs\n",
    "    "
   ]
  },
  {
   "cell_type": "code",
   "execution_count": null,
   "metadata": {},
   "outputs": [
    {
     "name": "stderr",
     "output_type": "stream",
     "text": [
      "c:\\Users\\MyBook Hype AMD\\AppData\\Local\\Programs\\Python\\Python313\\Lib\\site-packages\\torchvision\\models\\_utils.py:208: UserWarning: The parameter 'pretrained' is deprecated since 0.13 and may be removed in the future, please use 'weights' instead.\n",
      "  warnings.warn(\n",
      "c:\\Users\\MyBook Hype AMD\\AppData\\Local\\Programs\\Python\\Python313\\Lib\\site-packages\\torchvision\\models\\_utils.py:223: UserWarning: Arguments other than a weight enum or `None` for 'weights' are deprecated since 0.13 and may be removed in the future. The current behavior is equivalent to passing `weights=AlexNet_Weights.IMAGENET1K_V1`. You can also use `weights=AlexNet_Weights.DEFAULT` to get the most up-to-date weights.\n",
      "  warnings.warn(msg)\n"
     ]
    },
    {
     "name": "stdout",
     "output_type": "stream",
     "text": [
      "Epoch 1/20\n",
      "----------\n",
      "train Loss : 1.7417 Acc : 0.2335\n",
      "val Loss : 1.3318 Acc : 0.4412\n",
      "Epoch 2/20\n",
      "----------\n"
     ]
    },
    {
     "name": "stderr",
     "output_type": "stream",
     "text": [
      "c:\\Users\\MyBook Hype AMD\\AppData\\Local\\Programs\\Python\\Python313\\Lib\\site-packages\\torch\\optim\\lr_scheduler.py:243: UserWarning: The epoch parameter in `scheduler.step()` was not necessary and is being deprecated where possible. Please use `scheduler.step()` to step the scheduler. During the deprecation, if epoch is different from None, the closed form is used instead of the new chainable form, where available. Please open an issue if you are unable to replicate your use case: https://github.com/pytorch/pytorch/issues/new/choose.\n",
      "  warnings.warn(EPOCH_DEPRECATION_WARNING, UserWarning)\n"
     ]
    },
    {
     "name": "stdout",
     "output_type": "stream",
     "text": [
      "train Loss : 1.3705 Acc : 0.4449\n",
      "val Loss : 1.0946 Acc : 0.5294\n",
      "Epoch 3/20\n",
      "----------\n",
      "train Loss : 1.2154 Acc : 0.5074\n",
      "val Loss : 0.9702 Acc : 0.5588\n",
      "Epoch 4/20\n",
      "----------\n",
      "train Loss : 1.0873 Acc : 0.5717\n",
      "val Loss : 0.8760 Acc : 0.6176\n",
      "Epoch 5/20\n",
      "----------\n",
      "train Loss : 1.0425 Acc : 0.5790\n",
      "val Loss : 0.8317 Acc : 0.6471\n",
      "Epoch 6/20\n",
      "----------\n",
      "train Loss : 0.9868 Acc : 0.6011\n",
      "val Loss : 0.7669 Acc : 0.7353\n",
      "Epoch 7/20\n",
      "----------\n",
      "train Loss : 0.9530 Acc : 0.6397\n",
      "val Loss : 0.7575 Acc : 0.7059\n",
      "Epoch 8/20\n",
      "----------\n",
      "train Loss : 0.8366 Acc : 0.6838\n",
      "val Loss : 0.6959 Acc : 0.7353\n",
      "Epoch 9/20\n",
      "----------\n",
      "train Loss : 0.8040 Acc : 0.6893\n",
      "val Loss : 0.6632 Acc : 0.7941\n",
      "Epoch 10/20\n",
      "----------\n",
      "train Loss : 0.7715 Acc : 0.6967\n",
      "val Loss : 0.6337 Acc : 0.7941\n",
      "Epoch 11/20\n",
      "----------\n",
      "train Loss : 0.7914 Acc : 0.6875\n",
      "val Loss : 0.6065 Acc : 0.7941\n",
      "Epoch 12/20\n",
      "----------\n",
      "train Loss : 0.7184 Acc : 0.7316\n",
      "val Loss : 0.6329 Acc : 0.7059\n",
      "Epoch 13/20\n",
      "----------\n",
      "train Loss : 0.6608 Acc : 0.7537\n",
      "val Loss : 0.5877 Acc : 0.7647\n",
      "Epoch 14/20\n",
      "----------\n",
      "train Loss : 0.6239 Acc : 0.7757\n",
      "val Loss : 0.5922 Acc : 0.8235\n",
      "Epoch 15/20\n",
      "----------\n",
      "train Loss : 0.6307 Acc : 0.7408\n",
      "val Loss : 0.5270 Acc : 0.7941\n",
      "Epoch 16/20\n",
      "----------\n",
      "train Loss : 0.6233 Acc : 0.7537\n",
      "val Loss : 0.5289 Acc : 0.7353\n",
      "Epoch 17/20\n",
      "----------\n",
      "train Loss : 0.6491 Acc : 0.7445\n",
      "val Loss : 0.5072 Acc : 0.8235\n",
      "Epoch 18/20\n",
      "----------\n",
      "train Loss : 0.5791 Acc : 0.7904\n",
      "val Loss : 0.5038 Acc : 0.8235\n",
      "Epoch 19/20\n",
      "----------\n",
      "train Loss : 0.5304 Acc : 0.8199\n",
      "val Loss : 0.4919 Acc : 0.8235\n",
      "Epoch 20/20\n",
      "----------\n",
      "train Loss : 0.4999 Acc : 0.8107\n",
      "val Loss : 0.4703 Acc : 0.7941\n",
      "Best val acc: 0.823529\n"
     ]
    }
   ],
   "source": [
    "# model = create_model(num_classes=len(class_names))\n",
    "# model = model.to(device)\n",
    "\n",
    "# class_weights = get_class_weights(img_dt['train']).to(device)\n",
    "# criterion = nn.CrossEntropyLoss(weight=class_weights)\n",
    "\n",
    "# optimizer = optim.SGD(\n",
    "#     model.parameters(),\n",
    "#     lr=0.005,\n",
    "#     momentum=0.9,\n",
    "#     weight_decay=0.001,\n",
    "#     nesterov=True,\n",
    "# )\n",
    "# torch.nn.utils.clip_grad_norm_(model.parameters(), max_norm=1.0)\n",
    "\n",
    "# scheduler = optim.lr_scheduler.OneCycleLR(\n",
    "#     optimizer,\n",
    "#     max_lr=0.01,\n",
    "#     pct_start=0.3,\n",
    "#     epochs=20,\n",
    "#     steps_per_epoch=len(dataloaders['train'])\n",
    "# )\n",
    "\n",
    "# model, train_losses, val_losses, train_accs, val_accs= train_model(model, criterion, scheduler, optimizer, num_epochs=20)"
   ]
  },
  {
   "cell_type": "code",
   "execution_count": 26,
   "metadata": {},
   "outputs": [
    {
     "name": "stdout",
     "output_type": "stream",
     "text": [
      "Model saved to model_alexnet_2025-05-24_14-20-09.pth\n"
     ]
    }
   ],
   "source": [
    "timestamp = datetime.now().strftime('%Y-%m-%d_%H-%M-%S')\n",
    "model_save_path = f'model_alexnet_{timestamp}.pth'\n",
    "\n",
    "torch.save({\n",
    "    'model_state_dict': model.state_dict(),\n",
    "    # 'model_save_path' : model_save_path,\n",
    "    'optimizer_state_dict' : optimizer.state_dict(),\n",
    "    'scheduler_state_dict' : scheduler.state_dict(),\n",
    "    'class_names' : class_names,\n",
    "}, model_save_path)\n",
    "\n",
    "print(f'Model saved to {model_save_path}')"
   ]
  },
  {
   "cell_type": "code",
   "execution_count": 27,
   "metadata": {},
   "outputs": [
    {
     "data": {
      "image/png": "[encoded data removed]",
      "text/plain": [
       "<Figure size 500x500 with 1 Axes>"
      ]
     },
     "metadata": {},
     "output_type": "display_data"
    },
    {
     "data": {
      "image/png": "[encoded data removed]",
      "text/plain": [
       "<Figure size 500x500 with 1 Axes>"
      ]
     },
     "metadata": {},
     "output_type": "display_data"
    }
   ],
   "source": [
    "#membuat fungsi visualisasi untuk train_loss dan validation_loss\n",
    "def plot_loss(train_loss, val_loss, save=True):\n",
    "    plt.figure(figsize=(5, 5))\n",
    "    plt.plot(train_loss, label='Training Loss')\n",
    "    plt.plot(val_loss, label='Validation Loss')\n",
    "    plt.xlabel('Epochs')\n",
    "    plt.ylabel('Loss')\n",
    "    plt.title('Training and Validation Loss')\n",
    "    plt.legend()\n",
    "    plt.tight_layout()\n",
    "\n",
    "    if save:\n",
    "        # Create training_stat directory if it doesn't exist\n",
    "        os.makedirs('./training_stat', exist_ok=True)\n",
    "\n",
    "        # Save the plot with timestamp\n",
    "        plt.savefig(f'./training_stat/loss_plot_model_alexnet_{timestamp}.png')\n",
    "\n",
    "    plt.show()\n",
    "\n",
    "def plot_accuracy(train_acc, val_acc, save=True):\n",
    "    plt.figure(figsize=(5, 5))\n",
    "    plt.plot([x.cpu().numpy() for x in train_acc], label='Training Accuracy') # Convert to NumPy after moving to CPU\n",
    "    plt.plot([x.cpu().numpy() for x in val_acc], label='Validation Accuracy')\n",
    "    plt.xlabel('Epochs')\n",
    "    plt.ylabel('Accuracy')\n",
    "    plt.title('Training and Validation Accuracy')\n",
    "    plt.legend()\n",
    "    plt.tight_layout()\n",
    "\n",
    "    if save:\n",
    "        # Create training_stat directory if it doesn't exist\n",
    "        os.makedirs('./training_stat', exist_ok=True)\n",
    "\n",
    "        # Save the plot with timestamp\n",
    "        plt.savefig(f'./training_stat/accuracy_plot_model_alexnet_{timestamp}.png')\n",
    "\n",
    "    plt.show()\n",
    "\n",
    "# Call the functions to visualize the training history\n",
    "plot_loss(train_losses, val_losses)\n",
    "plot_accuracy(train_accs, val_accs)"
   ]
  },
  {
   "cell_type": "code",
   "execution_count": 28,
   "metadata": {},
   "outputs": [],
   "source": [
    "def test_model(model, test_loader):\n",
    "    model.eval()\n",
    "    all_labels = []\n",
    "    predictions = []\n",
    "    correct = 0\n",
    "    total = 0\n",
    "\n",
    "    with torch.no_grad():\n",
    "        for inputs, labels in test_loader:\n",
    "            inputs, labels = inputs.to(device), labels.to(device)\n",
    "\n",
    "            outputs = model(inputs)\n",
    "            _, predicted = torch.max(outputs, 1)\n",
    "\n",
    "            all_labels.extend(labels.cpu().numpy())\n",
    "            predictions.extend(predicted.cpu().numpy())\n",
    "\n",
    "            total += labels.size(0)\n",
    "            correct += (predicted == labels).sum().item()\n",
    "\n",
    "    accuracy = 100 * correct / total\n",
    "    print(f'Accuracy of the network on the test images: {accuracy:.2f}%')\n",
    "\n",
    "    print(f'Classification report : ')\n",
    "    print(classification_report(all_labels, predictions, target_names=class_names))\n",
    "\n",
    "    return accuracy, all_labels, predictions"
   ]
  },
  {
   "cell_type": "code",
   "execution_count": 29,
   "metadata": {},
   "outputs": [
    {
     "name": "stdout",
     "output_type": "stream",
     "text": [
      "Accuracy of the network on the test images: 91.18%\n",
      "Classification report : \n",
      "                 precision    recall  f1-score   support\n",
      "\n",
      "    bercak_daun       1.00      0.71      0.83         7\n",
      "  daun_berkerut       0.85      1.00      0.92        11\n",
      "  daun_berputar       0.83      1.00      0.91         5\n",
      "daun_menggulung       1.00      1.00      1.00         4\n",
      " daun_menguning       1.00      0.86      0.92         7\n",
      "\n",
      "       accuracy                           0.91        34\n",
      "      macro avg       0.94      0.91      0.92        34\n",
      "   weighted avg       0.93      0.91      0.91        34\n",
      "\n"
     ]
    }
   ],
   "source": [
    "test_accuracy, true_labels, pred_labels = test_model(model, dataloaders['test'])"
   ]
  },
  {
   "cell_type": "markdown",
   "metadata": {},
   "source": [
    "## Load model test"
   ]
  },
  {
   "cell_type": "code",
   "execution_count": 31,
   "metadata": {},
   "outputs": [
    {
     "name": "stdout",
     "output_type": "stream",
     "text": [
      "dict_keys(['model_state_dict', 'optimizer_state_dict', 'scheduler_state_dict', 'class_names'])\n"
     ]
    }
   ],
   "source": [
    "checkpoint = torch.load('model_alexnet_2025-05-24_14-20-09.pth')\n",
    "print(checkpoint.keys())"
   ]
  },
  {
   "cell_type": "code",
   "execution_count": 32,
   "metadata": {},
   "outputs": [
    {
     "name": "stderr",
     "output_type": "stream",
     "text": [
      "c:\\Users\\MyBook Hype AMD\\AppData\\Local\\Programs\\Python\\Python313\\Lib\\site-packages\\torchvision\\models\\_utils.py:208: UserWarning: The parameter 'pretrained' is deprecated since 0.13 and may be removed in the future, please use 'weights' instead.\n",
      "  warnings.warn(\n",
      "c:\\Users\\MyBook Hype AMD\\AppData\\Local\\Programs\\Python\\Python313\\Lib\\site-packages\\torchvision\\models\\_utils.py:223: UserWarning: Arguments other than a weight enum or `None` for 'weights' are deprecated since 0.13 and may be removed in the future. The current behavior is equivalent to passing `weights=AlexNet_Weights.IMAGENET1K_V1`. You can also use `weights=AlexNet_Weights.DEFAULT` to get the most up-to-date weights.\n",
      "  warnings.warn(msg)\n"
     ]
    }
   ],
   "source": [
    "model = create_model(num_classes=len(class_names))\n",
    "model = model.to(device)"
   ]
  },
  {
   "cell_type": "code",
   "execution_count": 33,
   "metadata": {},
   "outputs": [
    {
     "data": {
      "text/plain": [
       "<All keys matched successfully>"
      ]
     },
     "execution_count": 33,
     "metadata": {},
     "output_type": "execute_result"
    }
   ],
   "source": [
    "# Load directly\n",
    "model.load_state_dict(checkpoint['model_state_dict'])"
   ]
  },
  {
   "cell_type": "code",
   "execution_count": 34,
   "metadata": {},
   "outputs": [
    {
     "data": {
      "text/plain": [
       "AlexNet(\n",
       "  (features): Sequential(\n",
       "    (0): Conv2d(3, 64, kernel_size=(11, 11), stride=(4, 4), padding=(2, 2))\n",
       "    (1): ReLU(inplace=True)\n",
       "    (2): MaxPool2d(kernel_size=3, stride=2, padding=0, dilation=1, ceil_mode=False)\n",
       "    (3): Conv2d(64, 192, kernel_size=(5, 5), stride=(1, 1), padding=(2, 2))\n",
       "    (4): ReLU(inplace=True)\n",
       "    (5): MaxPool2d(kernel_size=3, stride=2, padding=0, dilation=1, ceil_mode=False)\n",
       "    (6): Conv2d(192, 384, kernel_size=(3, 3), stride=(1, 1), padding=(1, 1))\n",
       "    (7): ReLU(inplace=True)\n",
       "    (8): Conv2d(384, 256, kernel_size=(3, 3), stride=(1, 1), padding=(1, 1))\n",
       "    (9): ReLU(inplace=True)\n",
       "    (10): Conv2d(256, 256, kernel_size=(3, 3), stride=(1, 1), padding=(1, 1))\n",
       "    (11): ReLU(inplace=True)\n",
       "    (12): MaxPool2d(kernel_size=3, stride=2, padding=0, dilation=1, ceil_mode=False)\n",
       "  )\n",
       "  (avgpool): AdaptiveAvgPool2d(output_size=(6, 6))\n",
       "  (classifier): Sequential(\n",
       "    (0): Dropout(p=0.6, inplace=False)\n",
       "    (1): Linear(in_features=9216, out_features=2048, bias=True)\n",
       "    (2): BatchNorm1d(2048, eps=1e-05, momentum=0.1, affine=True, track_running_stats=True)\n",
       "    (3): ReLU(inplace=True)\n",
       "    (4): Dropout(p=0.6, inplace=False)\n",
       "    (5): Linear(in_features=2048, out_features=1024, bias=True)\n",
       "    (6): BatchNorm1d(1024, eps=1e-05, momentum=0.1, affine=True, track_running_stats=True)\n",
       "    (7): ReLU(inplace=True)\n",
       "    (8): Dropout(p=0.6, inplace=False)\n",
       "    (9): Linear(in_features=1024, out_features=5, bias=True)\n",
       "  )\n",
       ")"
      ]
     },
     "execution_count": 34,
     "metadata": {},
     "output_type": "execute_result"
    }
   ],
   "source": [
    "model.eval()"
   ]
  },
  {
   "cell_type": "code",
   "execution_count": 35,
   "metadata": {},
   "outputs": [],
   "source": [
    "correct = 0\n",
    "total = 0\n",
    "\n",
    "all_labels = []\n",
    "predictions = []"
   ]
  },
  {
   "cell_type": "code",
   "execution_count": 36,
   "metadata": {},
   "outputs": [
    {
     "name": "stdout",
     "output_type": "stream",
     "text": [
      "Total data to test : 34\n",
      "Total data correct : 31\n",
      "Accuracy : 91.18%\n"
     ]
    }
   ],
   "source": [
    "with torch.no_grad():\n",
    "    for inputs, labels in dataloaders['test']:\n",
    "        inputs, labels = inputs.to(device), labels.to(device)\n",
    "\n",
    "        outputs = model(inputs)\n",
    "        _, predicted = torch.max(outputs, 1)\n",
    "\n",
    "        all_labels.extend(labels.cpu().numpy())\n",
    "        predictions.extend(predicted.cpu().numpy())\n",
    "\n",
    "        total += labels.size(0)\n",
    "        correct += (predicted == labels).sum().item()\n",
    "\n",
    "accuracy = 100 * correct / total\n",
    "\n",
    "print(f'Total data to test : ' + str(total))\n",
    "print(f'Total data correct : ' + str(correct))\n",
    "print(f'Accuracy : {accuracy:.2f}%')"
   ]
  },
  {
   "cell_type": "code",
   "execution_count": 37,
   "metadata": {},
   "outputs": [
    {
     "name": "stdout",
     "output_type": "stream",
     "text": [
      "                 precision    recall  f1-score   support\n",
      "\n",
      "    bercak_daun       1.00      0.71      0.83         7\n",
      "  daun_berkerut       0.85      1.00      0.92        11\n",
      "  daun_berputar       0.83      1.00      0.91         5\n",
      "daun_menggulung       1.00      1.00      1.00         4\n",
      " daun_menguning       1.00      0.86      0.92         7\n",
      "\n",
      "       accuracy                           0.91        34\n",
      "      macro avg       0.94      0.91      0.92        34\n",
      "   weighted avg       0.93      0.91      0.91        34\n",
      "\n"
     ]
    }
   ],
   "source": [
    "print(classification_report(all_labels, predictions, target_names=img_dt['test'].classes))"
   ]
  },
  {
   "cell_type": "code",
   "execution_count": 38,
   "metadata": {},
   "outputs": [
    {
     "data": {
      "image/png": "[encoded data removed]",
      "text/plain": [
       "<Figure size 1000x800 with 2 Axes>"
      ]
     },
     "metadata": {},
     "output_type": "display_data"
    }
   ],
   "source": [
    "model_save_path = 'model_alexnet_2025-05-24_14-20-09.pth'\n",
    "training_notes = model_save_path.split('.')[0]\n",
    "\n",
    "cm = confusion_matrix(all_labels, predictions)\n",
    "plt.figure(figsize=(10, 8))\n",
    "sns.heatmap(cm, annot=True, fmt='d', cmap='Blues', xticklabels=class_names, yticklabels=class_names)\n",
    "plt.xlabel('Predicted')\n",
    "plt.ylabel('True')\n",
    "plt.title('Confusion Matrix')\n",
    "plt.tight_layout()\n",
    "\n",
    "os.makedirs('./evaluation_results', exist_ok=True)\n",
    "plt.savefig(f'./evaluation_results/confusion_matrix_{training_notes}.png')\n",
    "plt.show()"
   ]
  }
 ],
 "metadata": {
  "kernelspec": {
   "display_name": "Python 3",
   "language": "python",
   "name": "python3"
  },
  "language_info": {
   "codemirror_mode": {
    "name": "ipython",
    "version": 3
   },
   "file_extension": ".py",
   "mimetype": "text/x-python",
   "name": "python",
   "nbconvert_exporter": "python",
   "pygments_lexer": "ipython3",
   "version": "3.13.1"
  }
 },
 "nbformat": 4,
 "nbformat_minor": 2
}
